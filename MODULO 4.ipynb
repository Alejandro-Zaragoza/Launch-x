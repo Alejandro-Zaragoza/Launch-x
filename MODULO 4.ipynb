{
 "cells": [
  {
   "cell_type": "markdown",
   "metadata": {},
   "source": [
    "> <h1><em> Hechos de la luna 🌑</h1></em>"
   ]
  },
  {
   "cell_type": "code",
   "execution_count": 22,
   "metadata": {},
   "outputs": [
    {
     "name": "stdout",
     "output_type": "stream",
     "text": [
      "['Interesting facts about the Moon', \"The Moon is Earth's only satellite\", 'There are several interesting facts about the Moon and how it affects life here on Earth', 'On average, the Moon moves 4cm away from the Earth every year', 'This yearly drift is not significant enough to cause immediate effects on Earth', 'The highest daylight temperature of the Moon is 127 C.']\n",
      "The Moon is Earth's only satellite\n",
      "There are several interesting facts about the Moon and how it affects life here on Earth\n",
      "This yearly drift is not significant enough to cause immediate effects on Earth\n",
      "The highest daylight temperature of the Moon is 127 C.\n",
      "Interesting facts about the Moon\n",
      "The Moon is Earth's only satellite\n",
      "There are several interesting facts about the Moon and how it affects life here on Earth\n",
      "This yearly drift is not significant enough to cause immediate effects on Earth\n",
      "The highest daylight temperature of the Moon is 127 Celsius.\n"
     ]
    }
   ],
   "source": [
    "fact = \"\"\"Interesting facts about the Moon. The Moon is Earth's only satellite. There are several interesting facts about the Moon and how it affects life here on Earth. On average, the Moon moves 4cm away from the Earth every year. This yearly drift is not significant enough to cause immediate effects on Earth. The highest daylight temperature of the Moon is 127 C.\"\"\"\n",
    "fact_splited = fact .split('. ')\n",
    "print(fact_splited) \n",
    "\n",
    "pointer = [\"average\", \"temperature\", \"distance\"]\n",
    "\n",
    "for lines in fact_splited:\n",
    "\n",
    "    for pointer in pointer:\n",
    "\n",
    "        if pointer in lines:\n",
    "\n",
    "            print(lines)\n",
    "\n",
    "            break\n",
    "\n",
    "\n",
    "\n",
    "for lines in fact_splited:\n",
    "\n",
    "    for pointer in pointer:\n",
    "\n",
    "        if pointer in lines:\n",
    "\n",
    "            print(lines .replace('C','Celsius'))\n",
    "\n",
    "            break\n"
   ]
  },
  {
   "cell_type": "markdown",
   "metadata": {},
   "source": [
    "<h2><em> Muestra de Interfaz :</h2></em>"
   ]
  },
  {
   "cell_type": "code",
   "execution_count": 25,
   "metadata": {},
   "outputs": [
    {
     "name": "stdout",
     "output_type": "stream",
     "text": [
      "Everything Of Gravity On Moon\n",
      " ------------------------------------\n",
      "Planet name : Earth\n",
      "Gravity on Moon :  1.6199999999999999 m/s2  \n",
      "\n",
      "Everything of gravity on Mars\n",
      "------------------------------------\n",
      "Planet name : Ganímedes\n",
      "Gravity on Mars :  1.4300000000000002 m/s2 \n"
     ]
    }
   ],
   "source": [
    "# First Template\n",
    "name = \"Moon\"\n",
    "gravity = 0.00162 #km\n",
    "planet = \"Earth\"\n",
    "conv = gravity *1000\n",
    "\n",
    "title = f\"Everything of gravity on {name}\"\n",
    "\n",
    "Information= f\"\"\"------------------------------------\n",
    "Planet name : {planet}\n",
    "Gravity on {name} :  {conv} m/s2 \"\"\"\n",
    "\n",
    "Format = f\"\"\"{title .title()}\n",
    " {Information} \"\"\"\n",
    " \n",
    "print(Format)\n",
    "\n",
    "######################################################\n",
    "# Second Template\n",
    "name = \"Mars\"\n",
    "gravity = 0.00143 #km\n",
    "planet = \"Ganímedes\"\n",
    "conv=gravity*1000\n",
    "\n",
    "New_Format = f\"\"\"\n",
    "Everything of gravity on {name}\n",
    "------------------------------------\n",
    "Planet name : {planet}\n",
    "Gravity on {name} :  {conv} m/s2 \"\"\"\n",
    "\n",
    "print(New_Format.format(name=name,planet=planet,gravity=gravity))"
   ]
  },
  {
   "cell_type": "markdown",
   "metadata": {},
   "source": [
    "<h2><em> Muestra Adicional :</h2></em>"
   ]
  },
  {
   "cell_type": "code",
   "execution_count": 28,
   "metadata": {},
   "outputs": [
    {
     "name": "stdout",
     "output_type": "stream",
     "text": [
      "Everything Of Gravity On Jupiter\n",
      " ------------------------------------\n",
      "Planet name : Adrastea\n",
      "Gravity on Jupiter :  24.8 m/s2  \n"
     ]
    }
   ],
   "source": [
    "name = \"Jupiter\"\n",
    "gravity = 0.0248 #km\n",
    "planet = \"Adrastea\"\n",
    "conv = gravity *1000\n",
    "\n",
    "title = f\"Everything of gravity on {name}\"\n",
    "\n",
    "Information= f\"\"\"------------------------------------\n",
    "Planet name : {planet}\n",
    "Gravity on {name} :  {conv} m/s2 \"\"\"\n",
    "\n",
    "Format = f\"\"\"{title .title()}\n",
    " {Information} \"\"\" \n",
    " \n",
    "print(Format)"
   ]
  }
 ],
 "metadata": {
  "interpreter": {
   "hash": "a6db47f9288ea1af2c721d48ba1b2e35ee29978bbaaaa299c26b321760484231"
  },
  "kernelspec": {
   "display_name": "Python 3.10.2 64-bit",
   "language": "python",
   "name": "python3"
  },
  "language_info": {
   "codemirror_mode": {
    "name": "ipython",
    "version": 3
   },
   "file_extension": ".py",
   "mimetype": "text/x-python",
   "name": "python",
   "nbconvert_exporter": "python",
   "pygments_lexer": "ipython3",
   "version": "3.10.2"
  },
  "orig_nbformat": 4
 },
 "nbformat": 4,
 "nbformat_minor": 2
}
