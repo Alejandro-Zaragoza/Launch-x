{
 "cells": [
  {
   "cell_type": "markdown",
   "metadata": {},
   "source": [
    "<h1><em> DISTANCIA ENTRE PLANETAS </em>🪐 <-------> 🌎</h1>"
   ]
  },
  {
   "cell_type": "code",
   "execution_count": 25,
   "metadata": {},
   "outputs": [
    {
     "name": "stdout",
     "output_type": "stream",
     "text": [
      "Distance in Km: 628949330\n",
      "Distance in Miles: 390577534\n"
     ]
    }
   ],
   "source": [
    "from math import ceil, floor\n",
    "earth = 149597870 #Km\n",
    "jupiter = 778547200 #Km\n",
    "\n",
    "distance = abs(earth - jupiter)\n",
    "miles = ceil(distance * 0.621)\n",
    "\n",
    "print(\"Distance in Km:\", + distance)\n",
    "print(\"Distance in Miles:\", + miles)\n"
   ]
  },
  {
   "cell_type": "markdown",
   "metadata": {},
   "source": [
    "<h2><em>Conversión de Cadenas</h2></em>"
   ]
  },
  {
   "cell_type": "code",
   "execution_count": 29,
   "metadata": {},
   "outputs": [
    {
     "name": "stdout",
     "output_type": "stream",
     "text": [
      "Distance in Km:  1516864\n",
      "Distance in miles:  941972.544\n"
     ]
    }
   ],
   "source": [
    "planet_1 = input(\"Ingresa la distancia del primero planeta: \") \n",
    "planet_2 = input(\"Ingresa la distancia del segundo planeta: \") \n",
    "\n",
    "planet_1 =int(planet_1)\n",
    "planet_2 =int(planet_2)\n",
    "\n",
    "math = abs(planet_1 - planet_2)\n",
    "miles = (math * 0.621)\n",
    "\n",
    "print(\"Distance in Km: \",math)\n",
    "print(\"Distance in miles: \",miles)\n",
    "\n"
   ]
  }
 ],
 "metadata": {
  "interpreter": {
   "hash": "a6db47f9288ea1af2c721d48ba1b2e35ee29978bbaaaa299c26b321760484231"
  },
  "kernelspec": {
   "display_name": "Python 3.10.2 64-bit",
   "language": "python",
   "name": "python3"
  },
  "language_info": {
   "codemirror_mode": {
    "name": "ipython",
    "version": 3
   },
   "file_extension": ".py",
   "mimetype": "text/x-python",
   "name": "python",
   "nbconvert_exporter": "python",
   "pygments_lexer": "ipython3",
   "version": "3.10.2"
  },
  "orig_nbformat": 4
 },
 "nbformat": 4,
 "nbformat_minor": 2
}
