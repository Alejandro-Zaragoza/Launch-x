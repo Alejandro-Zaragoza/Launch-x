{
 "cells": [
  {
   "cell_type": "markdown",
   "metadata": {},
   "source": [
    "> <h1><em>Sistema de Control de Advertencias. ⚠️</em></h1>\n"
   ]
  },
  {
   "cell_type": "code",
   "execution_count": 4,
   "metadata": {},
   "outputs": [
    {
     "name": "stdout",
     "output_type": "stream",
     "text": [
      "FUERA DE PELIGRO...\n"
     ]
    }
   ],
   "source": [
    "velocidadasteroide = 49\n",
    "\n",
    "if velocidadasteroide >= 25:\n",
    "    print(\"¡ADVERTENCIA ASTERODIE EN CAMINO!\")\n",
    "else:\n",
    "    print(\"FUERA DE PELIGRO...\")"
   ]
  },
  {
   "cell_type": "markdown",
   "metadata": {},
   "source": [
    "<h2><em> Sensor de Velocidad </em></h2>"
   ]
  },
  {
   "cell_type": "code",
   "execution_count": 7,
   "metadata": {},
   "outputs": [
    {
     "name": "stdout",
     "output_type": "stream",
     "text": [
      "SIGUE CON TU DÍA, TRIPULANTE.\n"
     ]
    }
   ],
   "source": [
    "velocidadasteroide = 19\n",
    "\n",
    "if velocidadasteroide > 20:\n",
    "    print(\"VOLTEA ARRIBA Y APRECIA UN HAZ DE LUZ!\")\n",
    "elif velocidadasteroide == 20:\n",
    "    print(\"VOLTEA ARRIBA Y APRECIA UN HAZ DE LUZ!\")\n",
    "else:\n",
    "    print(\"SIGUE CON TU DÍA, TRIPULANTE.\")\n"
   ]
  },
  {
   "cell_type": "markdown",
   "metadata": {},
   "source": [
    "<h2><em>  Menú Principal</em></h2>"
   ]
  },
  {
   "cell_type": "code",
   "execution_count": 16,
   "metadata": {},
   "outputs": [
    {
     "name": "stdout",
     "output_type": "stream",
     "text": [
      "FUERA DE PELIGRO...\n",
      "SIGUE CON TU DÍA, TRIPULANTE.\n"
     ]
    }
   ],
   "source": [
    "velocidadasteroide = 5\n",
    "dimensionasteroide = 10\n",
    "\n",
    "if velocidadasteroide > 25 and dimensionasteroide > 25:\n",
    "    print(\"¡ADVERTENCIA!, PELIGRO POR ASTEROIDE\")\n",
    "elif velocidadasteroide >= 20:\n",
    "    print(\"VOLTEA ARRIBA Y APRECIA UN HAZ DE LUZ!\")\n",
    "elif velocidadasteroide < 25 or dimensionasteroide < 25:\n",
    "    print(\"FUERA DE PELIGRO...\")\n",
    "    print(\"SIGUE CON TU DÍA, TRIPULANTE.\")\n",
    "else:\n",
    "    print(\"SIGUE CON TU DÍA, TRIPULANTE.\")"
   ]
  }
 ],
 "metadata": {
  "interpreter": {
   "hash": "a6db47f9288ea1af2c721d48ba1b2e35ee29978bbaaaa299c26b321760484231"
  },
  "kernelspec": {
   "display_name": "Python 3.10.2 64-bit",
   "language": "python",
   "name": "python3"
  },
  "language_info": {
   "codemirror_mode": {
    "name": "ipython",
    "version": 3
   },
   "file_extension": ".py",
   "mimetype": "text/x-python",
   "name": "python",
   "nbconvert_exporter": "python",
   "pygments_lexer": "ipython3",
   "version": "3.10.2"
  },
  "orig_nbformat": 4
 },
 "nbformat": 4,
 "nbformat_minor": 2
}
