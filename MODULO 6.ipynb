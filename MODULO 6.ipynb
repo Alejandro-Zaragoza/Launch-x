{
 "cells": [
  {
   "cell_type": "markdown",
   "metadata": {},
   "source": [
    "> <h1><em> Lista de Planetas </em> 🌎</h1>"
   ]
  },
  {
   "cell_type": "code",
   "execution_count": null,
   "metadata": {},
   "outputs": [],
   "source": [
    "Planets = ['Mercury', 'Venus', 'Earth', 'Mars', 'Jupiter', 'Saturn', 'Uranus', 'Neptune']\n",
    "number_of_planets= len(Planets)\n",
    "\n",
    "print(\"There are\",number_of_planets,\"planets\")\n",
    "\n",
    "Planets.append('Pluto')\n",
    "number_of_planets= len(Planets)\n",
    "print(\"There are\",number_of_planets,\"planets now\")\n",
    "print(\"The last planet is\",Planets[-1])\n"
   ]
  },
  {
   "cell_type": "code",
   "execution_count": 17,
   "metadata": {},
   "outputs": [
    {
     "name": "stdout",
     "output_type": "stream",
     "text": [
      "Your planet is the number 3 of the solar system \n",
      "Planets close to the sun:  ['Mercury', 'Venus']\n",
      "Planets far from the sun:  ['Mars', 'Jupiter', 'Saturn', 'Neptune']\n"
     ]
    }
   ],
   "source": [
    "Planets = ['Mercury', 'Venus', 'Earth', 'Mars', 'Jupiter', 'Saturn', 'Neptune']\n",
    "user = input(\"Inglesa el nombre del planeta (utiliza la primer letra mayuscula)\")\n",
    "\n",
    "user_find = Planets.index(user)+1\n",
    "\n",
    "planets_near= Planets[0:user_find-1]\n",
    "planets_far= Planets[user_find:]\n",
    "\n",
    "print(\"Your planet is the number\",user_find,\"of the solar system \" )\n",
    "print(\"Planets close to the sun: \",planets_near)\n",
    "print(\"Planets far from the sun: \",planets_far)\n"
   ]
  }
 ],
 "metadata": {
  "interpreter": {
   "hash": "a6db47f9288ea1af2c721d48ba1b2e35ee29978bbaaaa299c26b321760484231"
  },
  "kernelspec": {
   "display_name": "Python 3.10.2 64-bit",
   "language": "python",
   "name": "python3"
  },
  "language_info": {
   "codemirror_mode": {
    "name": "ipython",
    "version": 3
   },
   "file_extension": ".py",
   "mimetype": "text/x-python",
   "name": "python",
   "nbconvert_exporter": "python",
   "pygments_lexer": "ipython3",
   "version": "3.10.2"
  },
  "orig_nbformat": 4
 },
 "nbformat": 4,
 "nbformat_minor": 2
}
