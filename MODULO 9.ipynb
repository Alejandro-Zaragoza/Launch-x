{
 "cells": [
  {
   "cell_type": "markdown",
   "metadata": {},
   "source": [
    "> <h1><em>Análisis de un sistema solar</h1></em>"
   ]
  },
  {
   "cell_type": "code",
   "execution_count": null,
   "metadata": {},
   "outputs": [],
   "source": [
    "def report(principal,secondary,emergency):\n",
    "    return f\"\"\" Report:\n",
    "    Average: {\"{:.4f}\".format(average([principal,secondary,emergency]))}%\n",
    "    Principal Tank: {principal}%\n",
    "    Secondary Tank: {secondary}%\n",
    "    Emergency Tank: {emergency}%\"\"\"\n",
    "\n",
    "def average(values):\n",
    "    total= sum(values)\n",
    "    chunk= len(values)\n",
    "    return total/chunk\n",
    "\n",
    "print(report(50,45,90))\n"
   ]
  },
  {
   "cell_type": "markdown",
   "metadata": {},
   "source": [
    "<h2><em>Actualización</h2></em>"
   ]
  },
  {
   "cell_type": "code",
   "execution_count": 20,
   "metadata": {},
   "outputs": [
    {
     "name": "stdout",
     "output_type": "stream",
     "text": [
      " Report:\n",
      "    Destination: Venus\n",
      "    Total time: 15 minutes\n",
      "    Fuel remaining: 135 Liters \n",
      "\n",
      " Report_Updated:\n",
      "    Destination: moon\n",
      "    Total time: 125 minutes\n",
      "    Fuel remaining: 700 Liters\n",
      " principal tank --> 500 liters remaining\n",
      "secondary tank --> 200 liters remaining\n",
      "\n"
     ]
    }
   ],
   "source": [
    "def Report(lounch_hour,flying_time,destination,main_tank,secondary_tank):\n",
    "    return f\"\"\" Report:\n",
    "    Destination: {destination}\n",
    "    Total time: {lounch_hour+flying_time} minutes\n",
    "    Fuel remaining: {main_tank+secondary_tank} Liters\"\"\"\n",
    "\n",
    "print(Report(10,5,'Venus',85,50),\"\\n\")\n",
    "\n",
    "\n",
    "def Report_update(destination,*minutes,**total_fuel):\n",
    "    report= f\"\"\" Report_Updated:\n",
    "    Destination: {destination}\n",
    "    Total time: {sum(minutes)} minutes\n",
    "    Fuel remaining: {sum(total_fuel.values())} Liters\\n \"\"\"\n",
    "\n",
    "    for tank_name, liters in total_fuel.items():\n",
    "        report += f\"{tank_name} tank --> {liters} liters remaining\\n\"\n",
    "    return report\n",
    "\n",
    "print(Report_update(\"moon\",45,20,60,principal=500,secondary=200 ))\n"
   ]
  }
 ],
 "metadata": {
  "interpreter": {
   "hash": "a6db47f9288ea1af2c721d48ba1b2e35ee29978bbaaaa299c26b321760484231"
  },
  "kernelspec": {
   "display_name": "Python 3.10.2 64-bit",
   "language": "python",
   "name": "python3"
  },
  "language_info": {
   "codemirror_mode": {
    "name": "ipython",
    "version": 3
   },
   "file_extension": ".py",
   "mimetype": "text/x-python",
   "name": "python",
   "nbconvert_exporter": "python",
   "pygments_lexer": "ipython3",
   "version": "3.10.2"
  },
  "orig_nbformat": 4
 },
 "nbformat": 4,
 "nbformat_minor": 2
}
